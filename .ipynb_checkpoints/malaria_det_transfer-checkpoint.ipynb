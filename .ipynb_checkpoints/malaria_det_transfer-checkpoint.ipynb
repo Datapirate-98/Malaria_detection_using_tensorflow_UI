{
 "cells": [
  {
   "cell_type": "code",
   "execution_count": 29,
   "metadata": {},
   "outputs": [],
   "source": [
    "import numpy as np\n",
    "import matplotlib.pyplot as plt\n",
    "import os\n",
    "import glob as glob\n",
    "from tensorflow.keras import layers\n",
    "from tensorflow.keras import Model\n",
    "from tensorflow.keras.applications.inception_v3 import InceptionV3 #also used VGG19 but got a less accuracy\n",
    "from tensorflow.keras.preprocessing.image import ImageDataGenerator\n",
    "import tensorflow_datasets as tfds\n",
    "import tensorflow as tf\n",
    "import cv2\n",
    "from keras.utils import np_utils\n",
    "%matplotlib inline"
   ]
  },
  {
   "cell_type": "code",
   "execution_count": 1,
   "metadata": {},
   "outputs": [
    {
     "data": {
      "text/plain": [
       "\"ds = tfds.load('malaria', shuffle_files=True)\\nassert isinstance(ds, tf.data.Dataset)\\nprint(ds)\""
      ]
     },
     "execution_count": 1,
     "metadata": {},
     "output_type": "execute_result"
    }
   ],
   "source": [
    "\"\"\"ds = tfds.load('malaria', shuffle_files=True)\n",
    "assert isinstance(ds, tf.data.Dataset)\n",
    "print(ds)\"\"\"\n",
    "\n",
    "#can also download manually from \"https://www.kaggle.com/iarunava/cell-images-for-detecting-malaria\""
   ]
  },
  {
   "cell_type": "code",
   "execution_count": 2,
   "metadata": {},
   "outputs": [],
   "source": [
    "incp = InceptionV3(input_shape = (200, 200, 3), \n",
    "                                include_top = False, \n",
    "                                weights = \"imagenet\")\n",
    "\n",
    "for layer in incp.layers:\n",
    "    layer.trainable = False\n",
    "    \n",
    "#inception.summary()\n",
    "    "
   ]
  },
  {
   "cell_type": "code",
   "execution_count": 3,
   "metadata": {},
   "outputs": [
    {
     "name": "stdout",
     "output_type": "stream",
     "text": [
      "['data/train\\\\Parasitized', 'data/train\\\\Uninfected']\n"
     ]
    }
   ],
   "source": [
    "category_dir = glob.glob(\"data/train/*\")\n",
    "print(category_dir)"
   ]
  },
  {
   "cell_type": "code",
   "execution_count": 4,
   "metadata": {},
   "outputs": [],
   "source": [
    "x = layers.Flatten()(incp.output)"
   ]
  },
  {
   "cell_type": "code",
   "execution_count": 16,
   "metadata": {},
   "outputs": [],
   "source": [
    "x = layers.Dense(1024, activation = \"relu\")(x)\n",
    "x = layers.Dropout(0.2)(x)\n",
    "x = layers.Dense(2, activation = \"softmax\")(x)\n",
    "model = Model(incp.input, x)\n",
    "#model.summary()"
   ]
  },
  {
   "cell_type": "code",
   "execution_count": 17,
   "metadata": {},
   "outputs": [],
   "source": [
    "model.compile(optimizer = \"adam\", \n",
    "              loss = 'categorical_crossentropy', \n",
    "              metrics = ['accuracy'])"
   ]
  },
  {
   "cell_type": "code",
   "execution_count": 18,
   "metadata": {},
   "outputs": [],
   "source": [
    "train_datagen = ImageDataGenerator(rescale = 1./255,\n",
    "                                   #rotation_range = 40,\n",
    "                                   #width_shift_range = 0.2,\n",
    "                                   #height_shift_range = 0.2,\n",
    "                                   shear_range = 0.2,\n",
    "                                   zoom_range = 0.2,\n",
    "                                   horizontal_flip = True)\n",
    "\n",
    "test_datagen = ImageDataGenerator(rescale = 1./255)"
   ]
  },
  {
   "cell_type": "code",
   "execution_count": 19,
   "metadata": {},
   "outputs": [
    {
     "name": "stdout",
     "output_type": "stream",
     "text": [
      "Found 23478 images belonging to 2 classes.\n",
      "Found 4080 images belonging to 2 classes.\n"
     ]
    }
   ],
   "source": [
    "train_dir = \"data/train\"\n",
    "test_dir = \"data/test\"\n",
    "\n",
    "train_generator = train_datagen.flow_from_directory(train_dir,\n",
    "                                                    batch_size = 100,\n",
    "                                                    class_mode = 'categorical', \n",
    "                                                    target_size = (200, 200))\n",
    "\n",
    "test_generator =  test_datagen.flow_from_directory( test_dir,\n",
    "                                                          batch_size  = 32,\n",
    "                                                          class_mode  = 'categorical', \n",
    "                                                          target_size = (200, 200))"
   ]
  },
  {
   "cell_type": "code",
   "execution_count": 79,
   "metadata": {},
   "outputs": [],
   "source": [
    "\"\"\"class myCallback(tf.keras.callbacks.Callback):\n",
    "  def on_epoch_end(self, epoch, logs={}):\n",
    "    if(logs.get('accuracy')>0.99): # I kept it 70% acc because i got best result in it u can try experimenting\n",
    "      print(\"\\nReached 99% accuracy so cancelling training!\")\n",
    "      self.model.stop_training = True\"\"\""
   ]
  },
  {
   "cell_type": "code",
   "execution_count": 80,
   "metadata": {},
   "outputs": [],
   "source": [
    "#callbacks = myCallback()"
   ]
  },
  {
   "cell_type": "code",
   "execution_count": 20,
   "metadata": {},
   "outputs": [
    {
     "name": "stdout",
     "output_type": "stream",
     "text": [
      "WARNING:tensorflow:sample_weight modes were coerced from\n",
      "  ...\n",
      "    to  \n",
      "  ['...']\n",
      "WARNING:tensorflow:sample_weight modes were coerced from\n",
      "  ...\n",
      "    to  \n",
      "  ['...']\n",
      "Train for 100 steps, validate for 50 steps\n",
      "Epoch 1/5\n",
      "100/100 [==============================] - ETA: 16:10 - loss: 0.6904 - accuracy: 0.490 - ETA: 12:55 - loss: 0.6905 - accuracy: 0.515 - ETA: 11:42 - loss: 0.6843 - accuracy: 0.586 - ETA: 12:30 - loss: 0.6723 - accuracy: 0.652 - ETA: 12:16 - loss: 0.6665 - accuracy: 0.670 - ETA: 11:56 - loss: 0.6557 - accuracy: 0.701 - ETA: 11:34 - loss: 0.6497 - accuracy: 0.714 - ETA: 11:16 - loss: 0.6399 - accuracy: 0.732 - ETA: 10:58 - loss: 0.6304 - accuracy: 0.748 - ETA: 10:47 - loss: 0.6271 - accuracy: 0.751 - ETA: 10:43 - loss: 0.6161 - accuracy: 0.764 - ETA: 10:32 - loss: 0.6063 - accuracy: 0.775 - ETA: 10:17 - loss: 0.6041 - accuracy: 0.773 - ETA: 10:05 - loss: 0.5985 - accuracy: 0.777 - ETA: 9:54 - loss: 0.5914 - accuracy: 0.781 - ETA: 9:34 - loss: 0.5857 - accuracy: 0.78 - ETA: 9:23 - loss: 0.5794 - accuracy: 0.78 - ETA: 9:12 - loss: 0.5704 - accuracy: 0.79 - ETA: 9:03 - loss: 0.5610 - accuracy: 0.80 - ETA: 8:53 - loss: 0.5548 - accuracy: 0.80 - ETA: 8:43 - loss: 0.5519 - accuracy: 0.80 - ETA: 8:35 - loss: 0.5467 - accuracy: 0.80 - ETA: 8:26 - loss: 0.5390 - accuracy: 0.80 - ETA: 8:17 - loss: 0.5365 - accuracy: 0.80 - ETA: 8:07 - loss: 0.5290 - accuracy: 0.81 - ETA: 7:59 - loss: 0.5200 - accuracy: 0.81 - ETA: 7:50 - loss: 0.5169 - accuracy: 0.81 - ETA: 7:43 - loss: 0.5144 - accuracy: 0.81 - ETA: 7:35 - loss: 0.5101 - accuracy: 0.82 - ETA: 7:30 - loss: 0.5039 - accuracy: 0.82 - ETA: 7:24 - loss: 0.4981 - accuracy: 0.82 - ETA: 7:17 - loss: 0.4946 - accuracy: 0.82 - ETA: 7:09 - loss: 0.4909 - accuracy: 0.82 - ETA: 7:02 - loss: 0.4886 - accuracy: 0.82 - ETA: 6:55 - loss: 0.4903 - accuracy: 0.82 - ETA: 6:48 - loss: 0.4866 - accuracy: 0.82 - ETA: 6:41 - loss: 0.4829 - accuracy: 0.83 - ETA: 6:34 - loss: 0.4820 - accuracy: 0.83 - ETA: 6:27 - loss: 0.4860 - accuracy: 0.82 - ETA: 6:20 - loss: 0.4871 - accuracy: 0.82 - ETA: 6:13 - loss: 0.4856 - accuracy: 0.82 - ETA: 6:07 - loss: 0.4822 - accuracy: 0.82 - ETA: 6:01 - loss: 0.4840 - accuracy: 0.82 - ETA: 5:54 - loss: 0.4855 - accuracy: 0.82 - ETA: 5:48 - loss: 0.4878 - accuracy: 0.82 - ETA: 5:41 - loss: 0.4909 - accuracy: 0.82 - ETA: 5:35 - loss: 0.4866 - accuracy: 0.82 - ETA: 5:28 - loss: 0.4852 - accuracy: 0.82 - ETA: 5:22 - loss: 0.4829 - accuracy: 0.82 - ETA: 5:16 - loss: 0.4865 - accuracy: 0.82 - ETA: 5:10 - loss: 0.4925 - accuracy: 0.81 - ETA: 5:03 - loss: 0.4961 - accuracy: 0.81 - ETA: 4:56 - loss: 0.5020 - accuracy: 0.81 - ETA: 4:49 - loss: 0.5029 - accuracy: 0.81 - ETA: 4:43 - loss: 0.5018 - accuracy: 0.81 - ETA: 4:36 - loss: 0.5012 - accuracy: 0.81 - ETA: 4:29 - loss: 0.4993 - accuracy: 0.81 - ETA: 4:23 - loss: 0.4968 - accuracy: 0.81 - ETA: 4:16 - loss: 0.4967 - accuracy: 0.81 - ETA: 4:09 - loss: 0.4945 - accuracy: 0.81 - ETA: 4:03 - loss: 0.4940 - accuracy: 0.81 - ETA: 3:56 - loss: 0.4982 - accuracy: 0.81 - ETA: 3:49 - loss: 0.5001 - accuracy: 0.81 - ETA: 3:43 - loss: 0.4975 - accuracy: 0.81 - ETA: 3:36 - loss: 0.4952 - accuracy: 0.81 - ETA: 3:30 - loss: 0.4938 - accuracy: 0.81 - ETA: 3:23 - loss: 0.4921 - accuracy: 0.81 - ETA: 3:17 - loss: 0.4922 - accuracy: 0.81 - ETA: 3:10 - loss: 0.4918 - accuracy: 0.81 - ETA: 3:04 - loss: 0.4921 - accuracy: 0.81 - ETA: 2:58 - loss: 0.4917 - accuracy: 0.81 - ETA: 2:51 - loss: 0.4897 - accuracy: 0.81 - ETA: 2:45 - loss: 0.4882 - accuracy: 0.81 - ETA: 2:39 - loss: 0.4863 - accuracy: 0.81 - ETA: 2:33 - loss: 0.4832 - accuracy: 0.82 - ETA: 2:27 - loss: 0.4844 - accuracy: 0.81 - ETA: 2:21 - loss: 0.4835 - accuracy: 0.82 - ETA: 2:15 - loss: 0.4831 - accuracy: 0.82 - ETA: 2:09 - loss: 0.4824 - accuracy: 0.82 - ETA: 2:03 - loss: 0.4794 - accuracy: 0.82 - ETA: 1:57 - loss: 0.4776 - accuracy: 0.82 - ETA: 1:51 - loss: 0.4760 - accuracy: 0.82 - ETA: 1:45 - loss: 0.4741 - accuracy: 0.82 - ETA: 1:39 - loss: 0.4735 - accuracy: 0.82 - ETA: 1:33 - loss: 0.4721 - accuracy: 0.82 - ETA: 1:27 - loss: 0.4713 - accuracy: 0.82 - ETA: 1:21 - loss: 0.4706 - accuracy: 0.82 - ETA: 1:14 - loss: 0.4699 - accuracy: 0.82 - ETA: 1:08 - loss: 0.4700 - accuracy: 0.82 - ETA: 1:02 - loss: 0.4691 - accuracy: 0.82 - ETA: 56s - loss: 0.4676 - accuracy: 0.8283 - ETA: 50s - loss: 0.4666 - accuracy: 0.828 - ETA: 43s - loss: 0.4640 - accuracy: 0.829 - ETA: 37s - loss: 0.4629 - accuracy: 0.830 - ETA: 31s - loss: 0.4611 - accuracy: 0.831 - ETA: 25s - loss: 0.4596 - accuracy: 0.832 - ETA: 18s - loss: 0.4585 - accuracy: 0.832 - ETA: 12s - loss: 0.4576 - accuracy: 0.832 - ETA: 6s - loss: 0.4560 - accuracy: 0.833 - 663s 7s/step - loss: 0.4551 - accuracy: 0.8341 - val_loss: 0.4199 - val_accuracy: 0.8481\n",
      "Epoch 2/5\n"
     ]
    },
    {
     "name": "stdout",
     "output_type": "stream",
     "text": [
      "100/100 [==============================] - ETA: 11:42 - loss: 0.3497 - accuracy: 0.880 - ETA: 11:06 - loss: 0.3586 - accuracy: 0.870 - ETA: 10:40 - loss: 0.3495 - accuracy: 0.876 - ETA: 10:36 - loss: 0.3138 - accuracy: 0.897 - ETA: 10:28 - loss: 0.3232 - accuracy: 0.890 - ETA: 10:24 - loss: 0.3123 - accuracy: 0.896 - ETA: 10:13 - loss: 0.3165 - accuracy: 0.894 - ETA: 10:04 - loss: 0.3420 - accuracy: 0.881 - ETA: 9:51 - loss: 0.3635 - accuracy: 0.872 - ETA: 9:39 - loss: 0.3811 - accuracy: 0.86 - ETA: 9:39 - loss: 0.3821 - accuracy: 0.86 - ETA: 9:30 - loss: 0.3789 - accuracy: 0.86 - ETA: 9:19 - loss: 0.3681 - accuracy: 0.87 - ETA: 9:09 - loss: 0.3727 - accuracy: 0.87 - ETA: 8:59 - loss: 0.3715 - accuracy: 0.87 - ETA: 8:51 - loss: 0.3692 - accuracy: 0.87 - ETA: 8:44 - loss: 0.3754 - accuracy: 0.87 - ETA: 8:36 - loss: 0.3874 - accuracy: 0.86 - ETA: 8:29 - loss: 0.3996 - accuracy: 0.86 - ETA: 8:23 - loss: 0.3986 - accuracy: 0.86 - ETA: 8:16 - loss: 0.3987 - accuracy: 0.86 - ETA: 8:08 - loss: 0.4020 - accuracy: 0.85 - ETA: 8:02 - loss: 0.3990 - accuracy: 0.86 - ETA: 7:55 - loss: 0.4002 - accuracy: 0.85 - ETA: 7:48 - loss: 0.4027 - accuracy: 0.85 - ETA: 7:41 - loss: 0.4048 - accuracy: 0.85 - ETA: 7:34 - loss: 0.4053 - accuracy: 0.85 - ETA: 7:28 - loss: 0.4052 - accuracy: 0.85 - ETA: 7:21 - loss: 0.4036 - accuracy: 0.85 - ETA: 7:13 - loss: 0.4010 - accuracy: 0.85 - ETA: 7:06 - loss: 0.4043 - accuracy: 0.85 - ETA: 7:01 - loss: 0.4024 - accuracy: 0.85 - ETA: 6:56 - loss: 0.3997 - accuracy: 0.85 - ETA: 6:49 - loss: 0.3980 - accuracy: 0.85 - ETA: 6:41 - loss: 0.4026 - accuracy: 0.85 - ETA: 6:35 - loss: 0.4051 - accuracy: 0.85 - ETA: 6:29 - loss: 0.4045 - accuracy: 0.85 - ETA: 6:23 - loss: 0.4027 - accuracy: 0.85 - ETA: 6:17 - loss: 0.4008 - accuracy: 0.85 - ETA: 6:13 - loss: 0.4012 - accuracy: 0.85 - ETA: 6:07 - loss: 0.4004 - accuracy: 0.85 - ETA: 6:02 - loss: 0.3992 - accuracy: 0.85 - ETA: 5:58 - loss: 0.4018 - accuracy: 0.85 - ETA: 5:52 - loss: 0.4024 - accuracy: 0.85 - ETA: 5:46 - loss: 0.4013 - accuracy: 0.85 - ETA: 5:41 - loss: 0.4035 - accuracy: 0.85 - ETA: 5:36 - loss: 0.4032 - accuracy: 0.85 - ETA: 5:30 - loss: 0.4034 - accuracy: 0.85 - ETA: 5:23 - loss: 0.4030 - accuracy: 0.85 - ETA: 5:17 - loss: 0.4006 - accuracy: 0.85 - ETA: 5:11 - loss: 0.3989 - accuracy: 0.85 - ETA: 5:05 - loss: 0.4013 - accuracy: 0.85 - ETA: 4:59 - loss: 0.4028 - accuracy: 0.85 - ETA: 4:54 - loss: 0.4057 - accuracy: 0.85 - ETA: 4:47 - loss: 0.4043 - accuracy: 0.85 - ETA: 4:41 - loss: 0.4026 - accuracy: 0.85 - ETA: 4:35 - loss: 0.4014 - accuracy: 0.85 - ETA: 4:28 - loss: 0.4008 - accuracy: 0.85 - ETA: 4:22 - loss: 0.4017 - accuracy: 0.85 - ETA: 4:15 - loss: 0.4038 - accuracy: 0.85 - ETA: 4:08 - loss: 0.4057 - accuracy: 0.85 - ETA: 4:02 - loss: 0.4059 - accuracy: 0.85 - ETA: 3:54 - loss: 0.4039 - accuracy: 0.85 - ETA: 3:48 - loss: 0.4042 - accuracy: 0.85 - ETA: 3:41 - loss: 0.4022 - accuracy: 0.85 - ETA: 3:35 - loss: 0.4015 - accuracy: 0.85 - ETA: 3:28 - loss: 0.3985 - accuracy: 0.85 - ETA: 3:23 - loss: 0.3976 - accuracy: 0.85 - ETA: 3:17 - loss: 0.3976 - accuracy: 0.85 - ETA: 3:10 - loss: 0.3971 - accuracy: 0.85 - ETA: 3:03 - loss: 0.3968 - accuracy: 0.85 - ETA: 2:57 - loss: 0.3971 - accuracy: 0.85 - ETA: 2:50 - loss: 0.3981 - accuracy: 0.85 - ETA: 2:44 - loss: 0.3991 - accuracy: 0.85 - ETA: 2:38 - loss: 0.3983 - accuracy: 0.85 - ETA: 2:31 - loss: 0.3980 - accuracy: 0.85 - ETA: 2:25 - loss: 0.3971 - accuracy: 0.85 - ETA: 2:18 - loss: 0.3959 - accuracy: 0.85 - ETA: 2:12 - loss: 0.3966 - accuracy: 0.85 - ETA: 2:06 - loss: 0.3965 - accuracy: 0.85 - ETA: 1:59 - loss: 0.3965 - accuracy: 0.85 - ETA: 1:53 - loss: 0.3962 - accuracy: 0.85 - ETA: 1:46 - loss: 0.3991 - accuracy: 0.85 - ETA: 1:40 - loss: 0.3993 - accuracy: 0.85 - ETA: 1:34 - loss: 0.3995 - accuracy: 0.85 - ETA: 1:27 - loss: 0.3987 - accuracy: 0.85 - ETA: 1:21 - loss: 0.3987 - accuracy: 0.85 - ETA: 1:15 - loss: 0.3977 - accuracy: 0.85 - ETA: 1:09 - loss: 0.3986 - accuracy: 0.85 - ETA: 1:02 - loss: 0.3979 - accuracy: 0.85 - ETA: 56s - loss: 0.3975 - accuracy: 0.8576 - ETA: 50s - loss: 0.3978 - accuracy: 0.857 - ETA: 43s - loss: 0.3985 - accuracy: 0.857 - ETA: 37s - loss: 0.3966 - accuracy: 0.858 - ETA: 31s - loss: 0.3959 - accuracy: 0.858 - ETA: 25s - loss: 0.3965 - accuracy: 0.857 - ETA: 18s - loss: 0.3968 - accuracy: 0.857 - ETA: 12s - loss: 0.3971 - accuracy: 0.857 - ETA: 6s - loss: 0.3981 - accuracy: 0.856 - 663s 7s/step - loss: 0.3985 - accuracy: 0.8565 - val_loss: 0.5803 - val_accuracy: 0.7337\n",
      "Epoch 3/5\n"
     ]
    },
    {
     "name": "stdout",
     "output_type": "stream",
     "text": [
      "100/100 [==============================] - ETA: 11:44 - loss: 0.4391 - accuracy: 0.820 - ETA: 10:57 - loss: 0.4608 - accuracy: 0.810 - ETA: 10:43 - loss: 0.4379 - accuracy: 0.820 - ETA: 10:46 - loss: 0.4081 - accuracy: 0.840 - ETA: 10:38 - loss: 0.4001 - accuracy: 0.844 - ETA: 10:37 - loss: 0.4014 - accuracy: 0.845 - ETA: 10:33 - loss: 0.3848 - accuracy: 0.854 - ETA: 10:20 - loss: 0.3825 - accuracy: 0.858 - ETA: 10:08 - loss: 0.4370 - accuracy: 0.840 - ETA: 10:00 - loss: 0.4420 - accuracy: 0.840 - ETA: 9:47 - loss: 0.4384 - accuracy: 0.842 - ETA: 9:35 - loss: 0.4356 - accuracy: 0.84 - ETA: 9:24 - loss: 0.4377 - accuracy: 0.84 - ETA: 9:14 - loss: 0.4354 - accuracy: 0.84 - ETA: 9:06 - loss: 0.4254 - accuracy: 0.85 - ETA: 8:58 - loss: 0.4133 - accuracy: 0.85 - ETA: 8:49 - loss: 0.4065 - accuracy: 0.86 - ETA: 8:41 - loss: 0.4039 - accuracy: 0.86 - ETA: 8:33 - loss: 0.3996 - accuracy: 0.86 - ETA: 8:26 - loss: 0.3976 - accuracy: 0.86 - ETA: 8:18 - loss: 0.3982 - accuracy: 0.86 - ETA: 8:11 - loss: 0.3940 - accuracy: 0.86 - ETA: 8:03 - loss: 0.3911 - accuracy: 0.86 - ETA: 7:54 - loss: 0.3938 - accuracy: 0.86 - ETA: 7:47 - loss: 0.3912 - accuracy: 0.86 - ETA: 7:39 - loss: 0.3905 - accuracy: 0.86 - ETA: 7:32 - loss: 0.3916 - accuracy: 0.86 - ETA: 7:25 - loss: 0.3907 - accuracy: 0.86 - ETA: 7:18 - loss: 0.3873 - accuracy: 0.86 - ETA: 7:10 - loss: 0.3865 - accuracy: 0.86 - ETA: 7:03 - loss: 0.3867 - accuracy: 0.86 - ETA: 6:57 - loss: 0.3883 - accuracy: 0.86 - ETA: 6:51 - loss: 0.3880 - accuracy: 0.86 - ETA: 6:45 - loss: 0.3862 - accuracy: 0.86 - ETA: 6:38 - loss: 0.3858 - accuracy: 0.86 - ETA: 6:31 - loss: 0.3838 - accuracy: 0.86 - ETA: 6:25 - loss: 0.3861 - accuracy: 0.86 - ETA: 6:18 - loss: 0.3878 - accuracy: 0.86 - ETA: 6:12 - loss: 0.3846 - accuracy: 0.86 - ETA: 6:05 - loss: 0.3827 - accuracy: 0.86 - ETA: 5:59 - loss: 0.3826 - accuracy: 0.86 - ETA: 5:53 - loss: 0.3819 - accuracy: 0.86 - ETA: 5:46 - loss: 0.3777 - accuracy: 0.86 - ETA: 5:40 - loss: 0.3808 - accuracy: 0.86 - ETA: 5:33 - loss: 0.3857 - accuracy: 0.86 - ETA: 5:27 - loss: 0.3852 - accuracy: 0.86 - ETA: 5:21 - loss: 0.3856 - accuracy: 0.86 - ETA: 5:15 - loss: 0.3857 - accuracy: 0.86 - ETA: 5:09 - loss: 0.3847 - accuracy: 0.86 - ETA: 5:02 - loss: 0.3842 - accuracy: 0.86 - ETA: 4:56 - loss: 0.3853 - accuracy: 0.86 - ETA: 4:50 - loss: 0.3840 - accuracy: 0.86 - ETA: 4:44 - loss: 0.3858 - accuracy: 0.86 - ETA: 4:38 - loss: 0.3856 - accuracy: 0.86 - ETA: 4:32 - loss: 0.3869 - accuracy: 0.86 - ETA: 4:26 - loss: 0.3858 - accuracy: 0.86 - ETA: 4:20 - loss: 0.3861 - accuracy: 0.86 - ETA: 4:14 - loss: 0.3847 - accuracy: 0.86 - ETA: 4:08 - loss: 0.3835 - accuracy: 0.86 - ETA: 4:01 - loss: 0.3834 - accuracy: 0.86 - ETA: 3:55 - loss: 0.3828 - accuracy: 0.86 - ETA: 3:49 - loss: 0.3819 - accuracy: 0.86 - ETA: 3:43 - loss: 0.3815 - accuracy: 0.86 - ETA: 3:37 - loss: 0.3830 - accuracy: 0.86 - ETA: 3:31 - loss: 0.3829 - accuracy: 0.86 - ETA: 3:25 - loss: 0.3849 - accuracy: 0.86 - ETA: 3:19 - loss: 0.3840 - accuracy: 0.86 - ETA: 3:12 - loss: 0.3834 - accuracy: 0.86 - ETA: 3:06 - loss: 0.3838 - accuracy: 0.86 - ETA: 3:00 - loss: 0.3828 - accuracy: 0.86 - ETA: 2:54 - loss: 0.3819 - accuracy: 0.86 - ETA: 2:48 - loss: 0.3814 - accuracy: 0.86 - ETA: 2:42 - loss: 0.3795 - accuracy: 0.86 - ETA: 2:36 - loss: 0.3803 - accuracy: 0.86 - ETA: 2:30 - loss: 0.3797 - accuracy: 0.86 - ETA: 2:24 - loss: 0.3792 - accuracy: 0.86 - ETA: 2:18 - loss: 0.3785 - accuracy: 0.86 - ETA: 2:12 - loss: 0.3763 - accuracy: 0.86 - ETA: 2:06 - loss: 0.3768 - accuracy: 0.86 - ETA: 2:00 - loss: 0.3764 - accuracy: 0.86 - ETA: 1:54 - loss: 0.3753 - accuracy: 0.86 - ETA: 1:48 - loss: 0.3758 - accuracy: 0.86 - ETA: 1:42 - loss: 0.3747 - accuracy: 0.86 - ETA: 1:36 - loss: 0.3725 - accuracy: 0.87 - ETA: 1:30 - loss: 0.3719 - accuracy: 0.87 - ETA: 1:24 - loss: 0.3717 - accuracy: 0.87 - ETA: 1:18 - loss: 0.3709 - accuracy: 0.87 - ETA: 1:12 - loss: 0.3701 - accuracy: 0.87 - ETA: 1:06 - loss: 0.3696 - accuracy: 0.87 - ETA: 1:00 - loss: 0.3690 - accuracy: 0.87 - ETA: 54s - loss: 0.3683 - accuracy: 0.8723 - ETA: 48s - loss: 0.3679 - accuracy: 0.872 - ETA: 42s - loss: 0.3665 - accuracy: 0.873 - ETA: 36s - loss: 0.3656 - accuracy: 0.873 - ETA: 30s - loss: 0.3668 - accuracy: 0.873 - ETA: 24s - loss: 0.3677 - accuracy: 0.872 - ETA: 18s - loss: 0.3683 - accuracy: 0.872 - ETA: 17s - loss: 0.3687 - accuracy: 0.872 - ETA: 8s - loss: 0.3682 - accuracy: 0.872 - 928s 9s/step - loss: 0.3670 - accuracy: 0.8728 - val_loss: 0.4007 - val_accuracy: 0.8606\n",
      "Epoch 4/5\n"
     ]
    },
    {
     "name": "stdout",
     "output_type": "stream",
     "text": [
      "100/100 [==============================] - ETA: 11:56 - loss: 0.4863 - accuracy: 0.830 - ETA: 11:24 - loss: 0.4744 - accuracy: 0.830 - ETA: 10:53 - loss: 0.4193 - accuracy: 0.853 - ETA: 10:29 - loss: 0.4573 - accuracy: 0.830 - ETA: 10:20 - loss: 0.4558 - accuracy: 0.830 - ETA: 10:12 - loss: 0.4354 - accuracy: 0.840 - ETA: 10:06 - loss: 0.4377 - accuracy: 0.837 - ETA: 9:56 - loss: 0.4369 - accuracy: 0.838 - ETA: 9:50 - loss: 0.4319 - accuracy: 0.84 - ETA: 9:41 - loss: 0.4192 - accuracy: 0.84 - ETA: 9:32 - loss: 0.4089 - accuracy: 0.85 - ETA: 9:23 - loss: 0.4014 - accuracy: 0.85 - ETA: 9:15 - loss: 0.4032 - accuracy: 0.85 - ETA: 9:04 - loss: 0.3997 - accuracy: 0.85 - ETA: 8:55 - loss: 0.4047 - accuracy: 0.85 - ETA: 8:48 - loss: 0.3981 - accuracy: 0.85 - ETA: 8:41 - loss: 0.3945 - accuracy: 0.86 - ETA: 8:36 - loss: 0.3974 - accuracy: 0.85 - ETA: 8:28 - loss: 0.3909 - accuracy: 0.86 - ETA: 8:20 - loss: 0.3859 - accuracy: 0.86 - ETA: 8:13 - loss: 0.3817 - accuracy: 0.86 - ETA: 8:06 - loss: 0.3762 - accuracy: 0.86 - ETA: 8:00 - loss: 0.3721 - accuracy: 0.87 - ETA: 7:52 - loss: 0.3723 - accuracy: 0.87 - ETA: 7:44 - loss: 0.3720 - accuracy: 0.87 - ETA: 7:36 - loss: 0.3697 - accuracy: 0.87 - ETA: 7:29 - loss: 0.3720 - accuracy: 0.87 - ETA: 7:23 - loss: 0.3730 - accuracy: 0.87 - ETA: 7:15 - loss: 0.3757 - accuracy: 0.86 - ETA: 7:08 - loss: 0.3723 - accuracy: 0.87 - ETA: 7:01 - loss: 0.3691 - accuracy: 0.87 - ETA: 6:52 - loss: 0.3674 - accuracy: 0.87 - ETA: 6:47 - loss: 0.3683 - accuracy: 0.87 - ETA: 6:40 - loss: 0.3672 - accuracy: 0.87 - ETA: 6:33 - loss: 0.3667 - accuracy: 0.87 - ETA: 6:27 - loss: 0.3719 - accuracy: 0.87 - ETA: 6:22 - loss: 0.3733 - accuracy: 0.87 - ETA: 6:17 - loss: 0.3699 - accuracy: 0.87 - ETA: 6:11 - loss: 0.3690 - accuracy: 0.87 - ETA: 6:05 - loss: 0.3672 - accuracy: 0.87 - ETA: 6:00 - loss: 0.3641 - accuracy: 0.87 - ETA: 5:54 - loss: 0.3648 - accuracy: 0.87 - ETA: 5:47 - loss: 0.3632 - accuracy: 0.87 - ETA: 5:41 - loss: 0.3630 - accuracy: 0.87 - ETA: 5:34 - loss: 0.3639 - accuracy: 0.87 - ETA: 5:28 - loss: 0.3643 - accuracy: 0.87 - ETA: 5:22 - loss: 0.3629 - accuracy: 0.87 - ETA: 5:16 - loss: 0.3641 - accuracy: 0.87 - ETA: 5:09 - loss: 0.3686 - accuracy: 0.87 - ETA: 5:03 - loss: 0.3764 - accuracy: 0.86 - ETA: 4:58 - loss: 0.3797 - accuracy: 0.86 - ETA: 4:51 - loss: 0.3797 - accuracy: 0.86 - ETA: 4:45 - loss: 0.3787 - accuracy: 0.86 - ETA: 4:39 - loss: 0.3778 - accuracy: 0.86 - ETA: 4:33 - loss: 0.3773 - accuracy: 0.86 - ETA: 4:26 - loss: 0.3769 - accuracy: 0.87 - ETA: 4:20 - loss: 0.3799 - accuracy: 0.86 - ETA: 4:13 - loss: 0.3807 - accuracy: 0.86 - ETA: 4:07 - loss: 0.3817 - accuracy: 0.86 - ETA: 4:01 - loss: 0.3810 - accuracy: 0.86 - ETA: 3:55 - loss: 0.3810 - accuracy: 0.86 - ETA: 3:50 - loss: 0.3803 - accuracy: 0.86 - ETA: 3:44 - loss: 0.3802 - accuracy: 0.86 - ETA: 3:38 - loss: 0.3809 - accuracy: 0.86 - ETA: 3:33 - loss: 0.3797 - accuracy: 0.86 - ETA: 3:28 - loss: 0.3794 - accuracy: 0.86 - ETA: 3:22 - loss: 0.3796 - accuracy: 0.86 - ETA: 3:16 - loss: 0.3800 - accuracy: 0.86 - ETA: 3:10 - loss: 0.3796 - accuracy: 0.86 - ETA: 3:04 - loss: 0.3781 - accuracy: 0.87 - ETA: 2:58 - loss: 0.3778 - accuracy: 0.87 - ETA: 2:51 - loss: 0.3766 - accuracy: 0.87 - ETA: 2:45 - loss: 0.3775 - accuracy: 0.87 - ETA: 2:39 - loss: 0.3763 - accuracy: 0.87 - ETA: 2:33 - loss: 0.3747 - accuracy: 0.87 - ETA: 2:26 - loss: 0.3739 - accuracy: 0.87 - ETA: 2:20 - loss: 0.3736 - accuracy: 0.87 - ETA: 2:14 - loss: 0.3731 - accuracy: 0.87 - ETA: 2:08 - loss: 0.3721 - accuracy: 0.87 - ETA: 2:02 - loss: 0.3730 - accuracy: 0.87 - ETA: 1:56 - loss: 0.3729 - accuracy: 0.87 - ETA: 1:50 - loss: 0.3724 - accuracy: 0.87 - ETA: 1:43 - loss: 0.3726 - accuracy: 0.87 - ETA: 1:37 - loss: 0.3736 - accuracy: 0.87 - ETA: 1:31 - loss: 0.3731 - accuracy: 0.87 - ETA: 1:25 - loss: 0.3721 - accuracy: 0.87 - ETA: 1:19 - loss: 0.3709 - accuracy: 0.87 - ETA: 1:13 - loss: 0.3717 - accuracy: 0.87 - ETA: 1:07 - loss: 0.3699 - accuracy: 0.87 - ETA: 1:01 - loss: 0.3689 - accuracy: 0.87 - ETA: 54s - loss: 0.3704 - accuracy: 0.8741 - ETA: 48s - loss: 0.3695 - accuracy: 0.874 - ETA: 42s - loss: 0.3701 - accuracy: 0.874 - ETA: 36s - loss: 0.3692 - accuracy: 0.874 - ETA: 30s - loss: 0.3688 - accuracy: 0.874 - ETA: 24s - loss: 0.3677 - accuracy: 0.875 - ETA: 18s - loss: 0.3668 - accuracy: 0.875 - ETA: 12s - loss: 0.3667 - accuracy: 0.875 - ETA: 6s - loss: 0.3668 - accuracy: 0.875 - 646s 6s/step - loss: 0.3674 - accuracy: 0.8750 - val_loss: 0.4183 - val_accuracy: 0.8512\n",
      "Epoch 5/5\n"
     ]
    },
    {
     "name": "stdout",
     "output_type": "stream",
     "text": [
      "100/100 [==============================] - ETA: 12:00 - loss: 0.2330 - accuracy: 0.930 - ETA: 11:04 - loss: 0.2499 - accuracy: 0.925 - ETA: 11:03 - loss: 0.3134 - accuracy: 0.896 - ETA: 10:48 - loss: 0.3361 - accuracy: 0.887 - ETA: 10:42 - loss: 0.3377 - accuracy: 0.886 - ETA: 10:29 - loss: 0.3234 - accuracy: 0.891 - ETA: 10:14 - loss: 0.3254 - accuracy: 0.891 - ETA: 10:13 - loss: 0.3421 - accuracy: 0.883 - ETA: 10:02 - loss: 0.3515 - accuracy: 0.881 - ETA: 9:50 - loss: 0.3530 - accuracy: 0.880 - ETA: 9:38 - loss: 0.3653 - accuracy: 0.87 - ETA: 9:29 - loss: 0.3656 - accuracy: 0.87 - ETA: 9:21 - loss: 0.3673 - accuracy: 0.87 - ETA: 9:09 - loss: 0.3608 - accuracy: 0.87 - ETA: 9:01 - loss: 0.3505 - accuracy: 0.88 - ETA: 8:52 - loss: 0.3557 - accuracy: 0.88 - ETA: 8:45 - loss: 0.3557 - accuracy: 0.88 - ETA: 8:38 - loss: 0.3548 - accuracy: 0.88 - ETA: 8:30 - loss: 0.3518 - accuracy: 0.88 - ETA: 8:21 - loss: 0.3523 - accuracy: 0.88 - ETA: 8:12 - loss: 0.3596 - accuracy: 0.87 - ETA: 8:07 - loss: 0.3564 - accuracy: 0.87 - ETA: 8:01 - loss: 0.3540 - accuracy: 0.88 - ETA: 7:53 - loss: 0.3571 - accuracy: 0.87 - ETA: 7:46 - loss: 0.3594 - accuracy: 0.87 - ETA: 7:38 - loss: 0.3593 - accuracy: 0.87 - ETA: 7:30 - loss: 0.3607 - accuracy: 0.87 - ETA: 7:22 - loss: 0.3626 - accuracy: 0.87 - ETA: 7:15 - loss: 0.3630 - accuracy: 0.87 - ETA: 7:20 - loss: 0.3648 - accuracy: 0.87 - ETA: 7:23 - loss: 0.3625 - accuracy: 0.87 - ETA: 7:26 - loss: 0.3627 - accuracy: 0.87 - ETA: 7:26 - loss: 0.3691 - accuracy: 0.87 - ETA: 7:27 - loss: 0.3734 - accuracy: 0.87 - ETA: 7:27 - loss: 0.3726 - accuracy: 0.87 - ETA: 7:25 - loss: 0.3722 - accuracy: 0.87 - ETA: 7:23 - loss: 0.3710 - accuracy: 0.87 - ETA: 7:21 - loss: 0.3720 - accuracy: 0.87 - ETA: 7:19 - loss: 0.3701 - accuracy: 0.87 - ETA: 7:16 - loss: 0.3718 - accuracy: 0.87 - ETA: 7:12 - loss: 0.3699 - accuracy: 0.87 - ETA: 7:09 - loss: 0.3691 - accuracy: 0.87 - ETA: 7:05 - loss: 0.3697 - accuracy: 0.87 - ETA: 7:01 - loss: 0.3688 - accuracy: 0.87 - ETA: 6:56 - loss: 0.3666 - accuracy: 0.87 - ETA: 6:51 - loss: 0.3666 - accuracy: 0.87 - ETA: 6:47 - loss: 0.3653 - accuracy: 0.87 - ETA: 6:41 - loss: 0.3629 - accuracy: 0.87 - ETA: 6:36 - loss: 0.3623 - accuracy: 0.87 - ETA: 6:30 - loss: 0.3632 - accuracy: 0.87 - ETA: 6:25 - loss: 0.3618 - accuracy: 0.87 - ETA: 6:19 - loss: 0.3655 - accuracy: 0.87 - ETA: 6:13 - loss: 0.3667 - accuracy: 0.87 - ETA: 6:07 - loss: 0.3657 - accuracy: 0.87 - ETA: 6:01 - loss: 0.3629 - accuracy: 0.87 - ETA: 5:54 - loss: 0.3629 - accuracy: 0.87 - ETA: 5:48 - loss: 0.3627 - accuracy: 0.87 - ETA: 5:41 - loss: 0.3611 - accuracy: 0.87 - ETA: 5:34 - loss: 0.3592 - accuracy: 0.87 - ETA: 5:27 - loss: 0.3577 - accuracy: 0.87 - ETA: 5:20 - loss: 0.3564 - accuracy: 0.87 - ETA: 5:13 - loss: 0.3536 - accuracy: 0.88 - ETA: 5:07 - loss: 0.3551 - accuracy: 0.88 - ETA: 5:00 - loss: 0.3530 - accuracy: 0.88 - ETA: 4:52 - loss: 0.3561 - accuracy: 0.88 - ETA: 4:45 - loss: 0.3579 - accuracy: 0.87 - ETA: 4:37 - loss: 0.3574 - accuracy: 0.87 - ETA: 4:29 - loss: 0.3563 - accuracy: 0.88 - ETA: 4:22 - loss: 0.3572 - accuracy: 0.87 - ETA: 4:14 - loss: 0.3576 - accuracy: 0.87 - ETA: 4:06 - loss: 0.3593 - accuracy: 0.87 - ETA: 3:58 - loss: 0.3610 - accuracy: 0.87 - ETA: 3:50 - loss: 0.3609 - accuracy: 0.87 - ETA: 3:42 - loss: 0.3606 - accuracy: 0.87 - ETA: 3:34 - loss: 0.3598 - accuracy: 0.87 - ETA: 3:26 - loss: 0.3598 - accuracy: 0.87 - ETA: 3:18 - loss: 0.3590 - accuracy: 0.87 - ETA: 3:10 - loss: 0.3592 - accuracy: 0.87 - ETA: 3:01 - loss: 0.3580 - accuracy: 0.87 - ETA: 2:53 - loss: 0.3575 - accuracy: 0.87 - ETA: 2:45 - loss: 0.3573 - accuracy: 0.87 - ETA: 2:36 - loss: 0.3587 - accuracy: 0.87 - ETA: 2:28 - loss: 0.3579 - accuracy: 0.87 - ETA: 2:19 - loss: 0.3583 - accuracy: 0.87 - ETA: 2:11 - loss: 0.3573 - accuracy: 0.87 - ETA: 2:02 - loss: 0.3567 - accuracy: 0.87 - ETA: 1:54 - loss: 0.3576 - accuracy: 0.87 - ETA: 1:45 - loss: 0.3565 - accuracy: 0.87 - ETA: 1:36 - loss: 0.3563 - accuracy: 0.87 - ETA: 1:28 - loss: 0.3556 - accuracy: 0.88 - ETA: 1:19 - loss: 0.3571 - accuracy: 0.87 - ETA: 1:10 - loss: 0.3593 - accuracy: 0.87 - ETA: 1:02 - loss: 0.3582 - accuracy: 0.87 - ETA: 53s - loss: 0.3578 - accuracy: 0.8791 - ETA: 44s - loss: 0.3584 - accuracy: 0.878 - ETA: 35s - loss: 0.3583 - accuracy: 0.878 - ETA: 26s - loss: 0.3577 - accuracy: 0.879 - ETA: 17s - loss: 0.3575 - accuracy: 0.879 - ETA: 8s - loss: 0.3578 - accuracy: 0.879 - 961s 10s/step - loss: 0.3578 - accuracy: 0.8790 - val_loss: 0.4064 - val_accuracy: 0.8512\n"
     ]
    }
   ],
   "source": [
    "history = model.fit(train_generator,\n",
    "                   validation_data = test_generator,\n",
    "                   epochs = 5,\n",
    "                   steps_per_epoch = 100,\n",
    "                   validation_steps = 50)"
   ]
  },
  {
   "cell_type": "code",
   "execution_count": 28,
   "metadata": {},
   "outputs": [
    {
     "data": {
      "image/png": "[encoded data removed]",
      "text/plain": [
       "<Figure size 432x288 with 1 Axes>"
      ]
     },
     "metadata": {
      "needs_background": "light"
     },
     "output_type": "display_data"
    },
    {
     "data": {
      "text/plain": [
       "<Figure size 432x288 with 0 Axes>"
      ]
     },
     "metadata": {},
     "output_type": "display_data"
    }
   ],
   "source": [
    "\n",
    "plt.plot(history.history[\"loss\"], label = \"train_loss\")\n",
    "plt.plot(history.history[\"val_loss\"], label = \"val_loss\")\n",
    "plt.legend()\n",
    "plt.show()\n",
    "#plt.title(\"LOSS\")\n",
    "plt.savefig(\"Loss_visual.png\")"
   ]
  },
  {
   "cell_type": "code",
   "execution_count": 24,
   "metadata": {},
   "outputs": [
    {
     "data": {
      "image/png": "[encoded data removed]",
      "text/plain": [
       "<Figure size 432x288 with 1 Axes>"
      ]
     },
     "metadata": {
      "needs_background": "light"
     },
     "output_type": "display_data"
    },
    {
     "data": {
      "text/plain": [
       "<Figure size 432x288 with 0 Axes>"
      ]
     },
     "metadata": {},
     "output_type": "display_data"
    }
   ],
   "source": [
    "plt.plot(history.history[\"accuracy\"], label = \"train_acc\")\n",
    "plt.plot(history.history[\"val_accuracy\"], label = \"val_acc\")\n",
    "plt.legend()\n",
    "plt.show()\n",
    "#plt.title(\"ACCURACY\")\n",
    "plt.savefig(\"accuracy_visual.png\")"
   ]
  },
  {
   "cell_type": "code",
   "execution_count": 25,
   "metadata": {},
   "outputs": [],
   "source": [
    "model.save(\"malaria.h5\")"
   ]
  },
  {
   "cell_type": "code",
   "execution_count": 31,
   "metadata": {},
   "outputs": [
    {
     "ename": "AttributeError",
     "evalue": "'cv2.CascadeClassifier' object has no attribute 'detectMultiscale'",
     "output_type": "error",
     "traceback": [
      "\u001b[1;31m---------------------------------------------------------------------------\u001b[0m",
      "\u001b[1;31mAttributeError\u001b[0m                            Traceback (most recent call last)",
      "\u001b[1;32m<ipython-input-31-7539acac8bd7>\u001b[0m in \u001b[0;36m<module>\u001b[1;34m\u001b[0m\n\u001b[0;32m      3\u001b[0m \u001b[0mimg\u001b[0m \u001b[1;33m=\u001b[0m \u001b[0mcv2\u001b[0m\u001b[1;33m.\u001b[0m\u001b[0mimread\u001b[0m\u001b[1;33m(\u001b[0m\u001b[1;34m\"test3.png\"\u001b[0m\u001b[1;33m)\u001b[0m\u001b[1;33m\u001b[0m\u001b[1;33m\u001b[0m\u001b[0m\n\u001b[0;32m      4\u001b[0m \u001b[0mgrey\u001b[0m \u001b[1;33m=\u001b[0m \u001b[0mcv2\u001b[0m\u001b[1;33m.\u001b[0m\u001b[0mcvtColor\u001b[0m\u001b[1;33m(\u001b[0m\u001b[0mimg\u001b[0m\u001b[1;33m,\u001b[0m \u001b[0mcv2\u001b[0m\u001b[1;33m.\u001b[0m\u001b[0mCOLOR_BGR2GRAY\u001b[0m\u001b[1;33m)\u001b[0m\u001b[1;33m\u001b[0m\u001b[1;33m\u001b[0m\u001b[0m\n\u001b[1;32m----> 5\u001b[1;33m \u001b[0mcell\u001b[0m \u001b[1;33m=\u001b[0m \u001b[0mclassifier\u001b[0m\u001b[1;33m.\u001b[0m\u001b[0mdetectMultiscale\u001b[0m\u001b[1;33m(\u001b[0m\u001b[0mgrey\u001b[0m\u001b[1;33m,\u001b[0m \u001b[1;36m1.3\u001b[0m\u001b[1;33m,\u001b[0m \u001b[1;36m5\u001b[0m\u001b[1;33m)\u001b[0m\u001b[1;33m\u001b[0m\u001b[1;33m\u001b[0m\u001b[0m\n\u001b[0m\u001b[0;32m      6\u001b[0m \u001b[1;33m\u001b[0m\u001b[0m\n\u001b[0;32m      7\u001b[0m \u001b[1;32mfor\u001b[0m \u001b[0mx\u001b[0m\u001b[1;33m,\u001b[0m\u001b[0my\u001b[0m\u001b[1;33m,\u001b[0m\u001b[0mw\u001b[0m\u001b[1;33m,\u001b[0m\u001b[0mh\u001b[0m \u001b[1;32min\u001b[0m \u001b[0mcell\u001b[0m\u001b[1;33m:\u001b[0m\u001b[1;33m\u001b[0m\u001b[1;33m\u001b[0m\u001b[0m\n",
      "\u001b[1;31mAttributeError\u001b[0m: 'cv2.CascadeClassifier' object has no attribute 'detectMultiscale'"
     ]
    }
   ],
   "source": [
    "malaria_model = tf.keras.models.load_model(\"malaria.h5\")\n",
    "classifier = cv2.CascadeClassifier(\"cascade.xml\")\n",
    "img = cv2.imread(\"test3.png\")\n",
    "grey = cv2.cvtColor(img, cv2.COLOR_BGR2GRAY)\n",
    "cell = classifier.detectMulticale(grey, 1.3, 5)\n",
    "\n",
    "for x,y,w,h in cell:\n",
    "    \n",
    "    cell_img = grey[y:y+h, x:x+w]\n",
    "    resized = cv2.resize(cell_img, (200,200))\n",
    "    normalized = resized/255.0\n",
    "    reshaped = np.reshape(normalized, (1, 200, 200, 3))\n",
    "    result = model.predict(reshaped)\n",
    "    print(result)\n",
    "    \n",
    "    if result>0.5:\n",
    "        img = cv2.rectangle(img, (x,y),(x+w, y+h), (0, 255, 0), 2)\n",
    "        cv2.putText(img, \"Paratized\", (x, y-10),cv2.FONT_HERSHEY_SIMPLEX,0.8,(255,255,255),2)\n",
    "        \n",
    "    else:\n",
    "        img = cv2.rectangle(img, (x,y),(x+w, y+h), (0,0,255), 2)\n",
    "        cv2.putText(img, \"not-Paratized\", (x, y-10),cv2.FONT_HERSHEY_SIMPLEX,0.8,(255,255,255),2)\n",
    "        \n",
    "cv2.imshow(\"window\", img)\n",
    "cv2.waitKey(0)\n",
    "cv2.destroyAllWindows()\n",
    "        \n"
   ]
  }
 ],
 "metadata": {
  "kernelspec": {
   "display_name": "Python 3",
   "language": "python",
   "name": "python3"
  },
  "language_info": {
   "codemirror_mode": {
    "name": "ipython",
    "version": 3
   },
   "file_extension": ".py",
   "mimetype": "text/x-python",
   "name": "python",
   "nbconvert_exporter": "python",
   "pygments_lexer": "ipython3",
   "version": "3.7.3"
  }
 },
 "nbformat": 4,
 "nbformat_minor": 2
}
